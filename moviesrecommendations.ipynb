{
 "cells": [
  {
   "cell_type": "code",
   "execution_count": 1,
   "id": "a5f35942",
   "metadata": {
    "_cell_guid": "b1076dfc-b9ad-4769-8c92-a6c4dae69d19",
    "_uuid": "8f2839f25d086af736a60e9eeb907d3b93b6e0e5",
    "execution": {
     "iopub.execute_input": "2022-07-07T07:05:33.503466Z",
     "iopub.status.busy": "2022-07-07T07:05:33.502467Z",
     "iopub.status.idle": "2022-07-07T07:05:35.345653Z",
     "shell.execute_reply": "2022-07-07T07:05:35.344216Z"
    },
    "papermill": {
     "duration": 1.854146,
     "end_time": "2022-07-07T07:05:35.349074",
     "exception": false,
     "start_time": "2022-07-07T07:05:33.494928",
     "status": "completed"
    },
    "tags": []
   },
   "outputs": [],
   "source": [
    "# import neccessary libraries\n",
    "import numpy as np\n",
    "import pandas as pd\n",
    "import matplotlib.pyplot as plt\n",
    "import seaborn as sns\n",
    "from sklearn.ensemble import RandomForestClassifier\n",
    "from sklearn.model_selection import train_test_split\n",
    "from sklearn import metrics\n",
    "from sklearn.metrics import confusion_matrix, classification_report, accuracy_score"
   ]
  },
  {
   "cell_type": "code",
   "execution_count": 2,
   "id": "14c2c2d3",
   "metadata": {
    "execution": {
     "iopub.execute_input": "2022-07-07T07:05:35.360899Z",
     "iopub.status.busy": "2022-07-07T07:05:35.360454Z",
     "iopub.status.idle": "2022-07-07T07:05:35.384266Z",
     "shell.execute_reply": "2022-07-07T07:05:35.382918Z"
    },
    "papermill": {
     "duration": 0.03301,
     "end_time": "2022-07-07T07:05:35.387034",
     "exception": false,
     "start_time": "2022-07-07T07:05:35.354024",
     "status": "completed"
    },
    "tags": []
   },
   "outputs": [],
   "source": [
    "# put data into pandas data frame\n",
    "df=pd.read_csv(\"../input/finalised/FINALISED.csv\",sep=\",\", encoding='cp1252')"
   ]
  },
  {
   "cell_type": "code",
   "execution_count": 3,
   "id": "2e484b66",
   "metadata": {
    "execution": {
     "iopub.execute_input": "2022-07-07T07:05:35.398637Z",
     "iopub.status.busy": "2022-07-07T07:05:35.397891Z",
     "iopub.status.idle": "2022-07-07T07:05:35.431919Z",
     "shell.execute_reply": "2022-07-07T07:05:35.430644Z"
    },
    "papermill": {
     "duration": 0.043969,
     "end_time": "2022-07-07T07:05:35.435578",
     "exception": false,
     "start_time": "2022-07-07T07:05:35.391609",
     "status": "completed"
    },
    "tags": []
   },
   "outputs": [
    {
     "name": "stdout",
     "output_type": "stream",
     "text": [
      "<class 'pandas.core.frame.DataFrame'>\n",
      "RangeIndex: 2453 entries, 0 to 2452\n",
      "Data columns (total 10 columns):\n",
      " #   Column           Non-Null Count  Dtype \n",
      "---  ------           --------------  ----- \n",
      " 0   ID               2453 non-null   int64 \n",
      " 1   Year             2453 non-null   int64 \n",
      " 2   Age              2453 non-null   object\n",
      " 3   Rotten Tomatoes  2453 non-null   int64 \n",
      " 4   Netflix          2453 non-null   int64 \n",
      " 5   Hulu             2453 non-null   int64 \n",
      " 6   Prime Video      2453 non-null   int64 \n",
      " 7   Disney+          2453 non-null   int64 \n",
      " 8   Type             2453 non-null   int64 \n",
      " 9   Title            2453 non-null   object\n",
      "dtypes: int64(8), object(2)\n",
      "memory usage: 191.8+ KB\n"
     ]
    }
   ],
   "source": [
    "df.info()"
   ]
  },
  {
   "cell_type": "code",
   "execution_count": 4,
   "id": "bda7ddb3",
   "metadata": {
    "execution": {
     "iopub.execute_input": "2022-07-07T07:05:35.448644Z",
     "iopub.status.busy": "2022-07-07T07:05:35.448217Z",
     "iopub.status.idle": "2022-07-07T07:05:35.475897Z",
     "shell.execute_reply": "2022-07-07T07:05:35.474257Z"
    },
    "papermill": {
     "duration": 0.037559,
     "end_time": "2022-07-07T07:05:35.478860",
     "exception": false,
     "start_time": "2022-07-07T07:05:35.441301",
     "status": "completed"
    },
    "tags": []
   },
   "outputs": [
    {
     "name": "stdout",
     "output_type": "stream",
     "text": [
      "13\n",
      "Thieves of the Wood\n",
      "<class 'pandas.core.frame.DataFrame'>\n",
      "RangeIndex: 2453 entries, 0 to 2452\n",
      "Data columns (total 10 columns):\n",
      " #   Column           Non-Null Count  Dtype\n",
      "---  ------           --------------  -----\n",
      " 0   ID               2453 non-null   int64\n",
      " 1   Year             2453 non-null   int64\n",
      " 2   Age              2453 non-null   int8 \n",
      " 3   Rotten Tomatoes  2453 non-null   int64\n",
      " 4   Netflix          2453 non-null   int64\n",
      " 5   Hulu             2453 non-null   int64\n",
      " 6   Prime Video      2453 non-null   int64\n",
      " 7   Disney+          2453 non-null   int64\n",
      " 8   Type             2453 non-null   int64\n",
      " 9   Title            2453 non-null   int16\n",
      "dtypes: int16(1), int64(8), int8(1)\n",
      "memory usage: 160.6 KB\n"
     ]
    }
   ],
   "source": [
    "# encode Age feature\n",
    "df[\"Age\"] = df[\"Age\"].astype('category')\n",
    "age = dict(enumerate(df[\"Age\"].cat.categories))\n",
    "print(age[0])\n",
    "df[\"Age\"] = df[\"Age\"].cat.codes\n",
    "\n",
    "# encode Title feature\n",
    "df[\"Title\"] = df[\"Title\"].astype('category')\n",
    "title = dict(enumerate(df[\"Title\"].cat.categories))\n",
    "print(title[2200])\n",
    "df[\"Title\"] = df[\"Title\"].cat.codes\n",
    "\n",
    "df.info()"
   ]
  },
  {
   "cell_type": "code",
   "execution_count": 5,
   "id": "6c398fa2",
   "metadata": {
    "execution": {
     "iopub.execute_input": "2022-07-07T07:05:35.491809Z",
     "iopub.status.busy": "2022-07-07T07:05:35.491123Z",
     "iopub.status.idle": "2022-07-07T07:05:35.501076Z",
     "shell.execute_reply": "2022-07-07T07:05:35.499582Z"
    },
    "papermill": {
     "duration": 0.019015,
     "end_time": "2022-07-07T07:05:35.503815",
     "exception": false,
     "start_time": "2022-07-07T07:05:35.484800",
     "status": "completed"
    },
    "tags": []
   },
   "outputs": [
    {
     "name": "stdout",
     "output_type": "stream",
     "text": [
      "['ID', 'Year', 'Age', 'Rotten Tomatoes', 'Netflix', 'Hulu', 'Prime Video', 'Disney+', 'Type']\n",
      "2452\n"
     ]
    }
   ],
   "source": [
    "# split data into input data and labels\n",
    "X=df.iloc[:,:9]\n",
    "print(list(X.columns))\n",
    "y=df.iloc[:,-1]\n",
    "print(max(y))"
   ]
  },
  {
   "cell_type": "code",
   "execution_count": 6,
   "id": "1a5b5317",
   "metadata": {
    "execution": {
     "iopub.execute_input": "2022-07-07T07:05:35.515453Z",
     "iopub.status.busy": "2022-07-07T07:05:35.514955Z",
     "iopub.status.idle": "2022-07-07T07:05:35.524106Z",
     "shell.execute_reply": "2022-07-07T07:05:35.522875Z"
    },
    "papermill": {
     "duration": 0.017654,
     "end_time": "2022-07-07T07:05:35.526338",
     "exception": false,
     "start_time": "2022-07-07T07:05:35.508684",
     "status": "completed"
    },
    "tags": []
   },
   "outputs": [],
   "source": [
    "# Split dataset into training set and test set\n",
    "X_train, X_test, y_train, y_test = train_test_split(X, y, test_size=0.3, random_state=0)"
   ]
  },
  {
   "cell_type": "code",
   "execution_count": 7,
   "id": "bda48b99",
   "metadata": {
    "execution": {
     "iopub.execute_input": "2022-07-07T07:05:35.537851Z",
     "iopub.status.busy": "2022-07-07T07:05:35.536989Z",
     "iopub.status.idle": "2022-07-07T07:05:35.566365Z",
     "shell.execute_reply": "2022-07-07T07:05:35.565300Z"
    },
    "papermill": {
     "duration": 0.038181,
     "end_time": "2022-07-07T07:05:35.569198",
     "exception": false,
     "start_time": "2022-07-07T07:05:35.531017",
     "status": "completed"
    },
    "tags": []
   },
   "outputs": [],
   "source": [
    "#Training model using linear regression\n",
    "from sklearn.linear_model import LinearRegression\n",
    "regressor = LinearRegression()\n",
    "model=regressor.fit(X_train, y_train)"
   ]
  },
  {
   "cell_type": "code",
   "execution_count": 8,
   "id": "cd753b6c",
   "metadata": {
    "execution": {
     "iopub.execute_input": "2022-07-07T07:05:35.580784Z",
     "iopub.status.busy": "2022-07-07T07:05:35.580391Z",
     "iopub.status.idle": "2022-07-07T07:05:35.591652Z",
     "shell.execute_reply": "2022-07-07T07:05:35.590395Z"
    },
    "papermill": {
     "duration": 0.021011,
     "end_time": "2022-07-07T07:05:35.595021",
     "exception": false,
     "start_time": "2022-07-07T07:05:35.574010",
     "status": "completed"
    },
    "tags": []
   },
   "outputs": [
    {
     "name": "stdout",
     "output_type": "stream",
     "text": [
      "Money Heist\n"
     ]
    },
    {
     "name": "stderr",
     "output_type": "stream",
     "text": [
      "/opt/conda/lib/python3.7/site-packages/sklearn/base.py:451: UserWarning: X does not have valid feature names, but LinearRegression was fitted with feature names\n",
      "  \"X does not have valid feature names, but\"\n"
     ]
    }
   ],
   "source": [
    "#Testing model with rate of 4, sales in first month = 600 and sales in second month = 200\n",
    "#Predict output for sales in thrid month expected to be 400\n",
    "i=round(regressor.predict([[1, 2008, 18, 100, 1, 0, 0, 0, 1]])[0])\n",
    "# print(round(regressor.predict([[1, 2008, 18, 100, 1, 0, 0, 0, 1]])[0]))\n",
    "print(title[i])"
   ]
  },
  {
   "cell_type": "code",
   "execution_count": 9,
   "id": "bf5620c9",
   "metadata": {
    "execution": {
     "iopub.execute_input": "2022-07-07T07:05:35.606801Z",
     "iopub.status.busy": "2022-07-07T07:05:35.606380Z",
     "iopub.status.idle": "2022-07-07T07:05:35.610778Z",
     "shell.execute_reply": "2022-07-07T07:05:35.609583Z"
    },
    "papermill": {
     "duration": 0.013103,
     "end_time": "2022-07-07T07:05:35.613127",
     "exception": false,
     "start_time": "2022-07-07T07:05:35.600024",
     "status": "completed"
    },
    "tags": []
   },
   "outputs": [],
   "source": [
    "# #Create a Gaussian Classifier\n",
    "# clf=RandomForestClassifier(n_estimators=500)\n",
    "\n",
    "# #Train the model using the training sets y_pred=clf.predict(X_test)\n",
    "# clf.fit(X_train,y_train)\n",
    "\n",
    "# y_pred=clf.predict(X_test)"
   ]
  },
  {
   "cell_type": "code",
   "execution_count": 10,
   "id": "c58ae835",
   "metadata": {
    "execution": {
     "iopub.execute_input": "2022-07-07T07:05:35.625219Z",
     "iopub.status.busy": "2022-07-07T07:05:35.624088Z",
     "iopub.status.idle": "2022-07-07T07:05:35.629728Z",
     "shell.execute_reply": "2022-07-07T07:05:35.628565Z"
    },
    "papermill": {
     "duration": 0.014486,
     "end_time": "2022-07-07T07:05:35.632388",
     "exception": false,
     "start_time": "2022-07-07T07:05:35.617902",
     "status": "completed"
    },
    "tags": []
   },
   "outputs": [],
   "source": [
    "# # Model Accuracy, how often is the classifier correct?\n",
    "# print(\"Accuracy:\",accuracy_score(y_test, y_pred))"
   ]
  },
  {
   "cell_type": "code",
   "execution_count": 11,
   "id": "b45e8225",
   "metadata": {
    "execution": {
     "iopub.execute_input": "2022-07-07T07:05:35.644635Z",
     "iopub.status.busy": "2022-07-07T07:05:35.643859Z",
     "iopub.status.idle": "2022-07-07T07:05:35.649014Z",
     "shell.execute_reply": "2022-07-07T07:05:35.647960Z"
    },
    "papermill": {
     "duration": 0.014572,
     "end_time": "2022-07-07T07:05:35.651853",
     "exception": false,
     "start_time": "2022-07-07T07:05:35.637281",
     "status": "completed"
    },
    "tags": []
   },
   "outputs": [],
   "source": [
    "# RandomForestClassifier(bootstrap=True, class_weight=None, criterion='gini',\n",
    "#             max_depth=None, max_features='auto', max_leaf_nodes=None,\n",
    "#             min_impurity_decrease=0.0,\n",
    "#             min_samples_leaf=1, min_samples_split=2,\n",
    "#             min_weight_fraction_leaf=0.0, n_estimators=100, n_jobs=1,\n",
    "#             oob_score=False, random_state=None, verbose=0,\n",
    "#             warm_start=False)"
   ]
  },
  {
   "cell_type": "code",
   "execution_count": 12,
   "id": "ed5ece65",
   "metadata": {
    "execution": {
     "iopub.execute_input": "2022-07-07T07:05:35.664231Z",
     "iopub.status.busy": "2022-07-07T07:05:35.663429Z",
     "iopub.status.idle": "2022-07-07T07:05:35.668414Z",
     "shell.execute_reply": "2022-07-07T07:05:35.667525Z"
    },
    "papermill": {
     "duration": 0.013918,
     "end_time": "2022-07-07T07:05:35.670877",
     "exception": false,
     "start_time": "2022-07-07T07:05:35.656959",
     "status": "completed"
    },
    "tags": []
   },
   "outputs": [],
   "source": [
    "# feature_imp = pd.Series(clf.feature_importances_,index=list(X.columns)).sort_values(ascending=False)\n",
    "# feature_imp"
   ]
  },
  {
   "cell_type": "code",
   "execution_count": 13,
   "id": "139e4dc8",
   "metadata": {
    "execution": {
     "iopub.execute_input": "2022-07-07T07:05:35.682577Z",
     "iopub.status.busy": "2022-07-07T07:05:35.682144Z",
     "iopub.status.idle": "2022-07-07T07:05:35.686762Z",
     "shell.execute_reply": "2022-07-07T07:05:35.685446Z"
    },
    "papermill": {
     "duration": 0.013449,
     "end_time": "2022-07-07T07:05:35.689170",
     "exception": false,
     "start_time": "2022-07-07T07:05:35.675721",
     "status": "completed"
    },
    "tags": []
   },
   "outputs": [],
   "source": [
    "# # Creating a bar plot\n",
    "# sns.barplot(x=feature_imp, y=feature_imp.index)\n",
    "# # Add labels to your graph\n",
    "# plt.xlabel('Feature Importance Score')\n",
    "# plt.ylabel('Features')\n",
    "# plt.title(\"Visualizing Important Features\")\n",
    "# plt.legend()\n",
    "# plt.show()"
   ]
  }
 ],
 "metadata": {
  "kernelspec": {
   "display_name": "Python 3",
   "language": "python",
   "name": "python3"
  },
  "language_info": {
   "codemirror_mode": {
    "name": "ipython",
    "version": 3
   },
   "file_extension": ".py",
   "mimetype": "text/x-python",
   "name": "python",
   "nbconvert_exporter": "python",
   "pygments_lexer": "ipython3",
   "version": "3.7.12"
  },
  "papermill": {
   "default_parameters": {},
   "duration": 15.330347,
   "end_time": "2022-07-07T07:05:36.517092",
   "environment_variables": {},
   "exception": null,
   "input_path": "__notebook__.ipynb",
   "output_path": "__notebook__.ipynb",
   "parameters": {},
   "start_time": "2022-07-07T07:05:21.186745",
   "version": "2.3.4"
  }
 },
 "nbformat": 4,
 "nbformat_minor": 5
}
